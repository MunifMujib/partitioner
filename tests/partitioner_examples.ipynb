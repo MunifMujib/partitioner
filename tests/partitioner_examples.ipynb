{
 "cells": [
  {
   "cell_type": "markdown",
   "metadata": {},
   "source": [
    "## Partitioner examples\n",
    "### This is a jupyter notebook with a few vignettes that present some of the Python partitioner package's functionality.\n",
    "Note: Cleaning of text and determination of clauses  occurs in the partitionText method.  Because of this, it is unwise to pass large, uncleaned pieces of text as 'clauses' directly through the .partition() method (regardless of the type of partition being taken), as this will simply tokenize the text by splitting on \" \", producing many long, punctuation-filled phrases, and likely run very slow. As such, best practices only use .partition() for testing and exploring the tool on case-interested clauses.\n"
   ]
  },
  {
   "cell_type": "code",
   "execution_count": 1,
   "metadata": {
    "collapsed": true
   },
   "outputs": [],
   "source": [
    "from partitioner import partitioner\n",
    "from partitioner.methods import *"
   ]
  },
  {
   "cell_type": "markdown",
   "metadata": {},
   "source": [
    "### Process the English Wiktionary to generate the (default) partition probabilities.\n",
    "Note: this step can take significant time for large dictionaries (~5 min)."
   ]
  },
  {
   "cell_type": "code",
   "execution_count": 2,
   "metadata": {
    "collapsed": true
   },
   "outputs": [],
   "source": [
    "## Vignette 1: Build informed partition data from a dictionary, \n",
    "##             and store to local collection\n",
    "def preprocessENwiktionary():\n",
    "    pa = partitioner(informed = True, dictionary = \"./dictionaries/enwiktionary.txt\")\n",
    "    pa.dumpqs(qsname=\"enwiktionary\")"
   ]
  },
  {
   "cell_type": "code",
   "execution_count": 3,
   "metadata": {
    "collapsed": true
   },
   "outputs": [],
   "source": [
    "preprocessENwiktionary()"
   ]
  },
  {
   "cell_type": "markdown",
   "metadata": {},
   "source": [
    "### Perform a few one-off partitions."
   ]
  },
  {
   "cell_type": "code",
   "execution_count": 4,
   "metadata": {
    "collapsed": true
   },
   "outputs": [],
   "source": [
    "## Vignette 2: An informed, one-off partition of a single clause\n",
    "def informedOneOffPartition(clause = \"How are you doing today?\"):\n",
    "    pa = oneoff()\n",
    "    print pa.partition(clause)"
   ]
  },
  {
   "cell_type": "code",
   "execution_count": 5,
   "metadata": {
    "collapsed": false
   },
   "outputs": [
    {
     "name": "stdout",
     "output_type": "stream",
     "text": [
      "['How are you doing', 'today?']\n",
      "['Fine,', 'thanks a bunch', 'for', 'asking!']\n"
     ]
    }
   ],
   "source": [
    "informedOneOffPartition()\n",
    "informedOneOffPartition(\"Fine, thanks a bunch for asking!\")"
   ]
  },
  {
   "cell_type": "markdown",
   "metadata": {},
   "source": [
    "### Solve for the informed stochastic expectation partition (given the informed partition probabilities)."
   ]
  },
  {
   "cell_type": "code",
   "execution_count": 6,
   "metadata": {
    "collapsed": true
   },
   "outputs": [],
   "source": [
    "## Vignette 3: An informed, stochastic expectation partition of a single clause\n",
    "def informedStochasticPartition(clause = \"How are you doing today?\"):\n",
    "    pa = stochastic()\n",
    "    print pa.partition(clause)"
   ]
  },
  {
   "cell_type": "code",
   "execution_count": 7,
   "metadata": {
    "collapsed": false
   },
   "outputs": [
    {
     "name": "stdout",
     "output_type": "stream",
     "text": [
      "{'are you': 1.407092428930965e-09, 'How are you': 0.00025712526951610467, 'How': 5.472370457590498e-06, 'doing': 0.000257136448270894, 'you doing': 3.79920846523168e-05, 'How are': 3.800164835444141e-05, 'are': 2.0796023583003835e-10, 'are you doing': 5.47075540492574e-06, 'today?': 1.0, 'you': 9.771662360456963e-09, 'How are you doing': 0.999699400711672}\n"
     ]
    }
   ],
   "source": [
    "informedStochasticPartition()"
   ]
  },
  {
   "cell_type": "markdown",
   "metadata": {},
   "source": [
    "### Perform a pure random (uniform) one-off partition."
   ]
  },
  {
   "cell_type": "code",
   "execution_count": 8,
   "metadata": {
    "collapsed": true
   },
   "outputs": [],
   "source": [
    "## Vignette 4: An uniform, one-off partition of a single clause\n",
    "def uniformOneOffPartition(informed = False, clause = \"How are you doing today?\", qunif = 0.25):\n",
    "    pa = oneoff(informed = informed, qunif = qunif)\n",
    "    print pa.partition(clause)"
   ]
  },
  {
   "cell_type": "code",
   "execution_count": 15,
   "metadata": {
    "collapsed": false
   },
   "outputs": [
    {
     "name": "stdout",
     "output_type": "stream",
     "text": [
      "['How are', 'you doing today?']\n",
      "['How', 'are', 'you doing today?']\n"
     ]
    }
   ],
   "source": [
    "uniformOneOffPartition()\n",
    "uniformOneOffPartition(qunif = 0.75)"
   ]
  },
  {
   "cell_type": "markdown",
   "metadata": {},
   "source": [
    "### Solve for the uniform stochastic expectation partition (given the uniform partition probabilities)."
   ]
  },
  {
   "cell_type": "code",
   "execution_count": 16,
   "metadata": {
    "collapsed": true
   },
   "outputs": [],
   "source": [
    "## Vignette 5: An uniform, stochastic expectation partition of a single clause\n",
    "def uniformStochasticPartition(informed = False, clause = \"How are you doing today?\", qunif = 0.25):\n",
    "    pa = stochastic(informed = informed, qunif = qunif)\n",
    "    print pa.partition(clause)"
   ]
  },
  {
   "cell_type": "code",
   "execution_count": 17,
   "metadata": {
    "collapsed": false
   },
   "outputs": [
    {
     "name": "stdout",
     "output_type": "stream",
     "text": [
      "{'are you doing today?': 0.10546875000000001, 'How are you': 0.14062499999999997, 'How': 0.25, 'doing': 0.0625, 'How are': 0.1875, 'How are you doing today?': 0.31640625, 'doing today?': 0.1875, 'you doing': 0.046875, 'are you doing': 0.03515624999999999, 'are': 0.0625, 'you doing today?': 0.14062499999999997, 'today?': 0.25, 'are you': 0.046875, 'you': 0.0625, 'How are you doing': 0.10546875000000001}\n",
      "{'a': 0.0625, 'Fine,': 0.25, 'thanks a': 0.046875, 'Fine, thanks a bunch for asking!': 0.23730468749999997, 'bunch for asking!': 0.14062499999999997, 'a bunch for': 0.03515624999999999, 'for': 0.0625, 'thanks a bunch for': 0.026367187499999993, 'Fine, thanks a bunch': 0.10546875000000001, 'Fine, thanks a bunch for': 0.0791015625, 'a bunch': 0.046875, 'Fine, thanks a': 0.14062499999999997, 'Fine, thanks': 0.1875, 'thanks': 0.0625, 'a bunch for asking!': 0.10546875000000001, 'asking!': 0.25, 'bunch for': 0.046875, 'for asking!': 0.1875, 'thanks a bunch for asking!': 0.0791015625, 'thanks a bunch': 0.03515624999999999, 'bunch': 0.0625}\n"
     ]
    }
   ],
   "source": [
    "uniformStochasticPartition()\n",
    "uniformStochasticPartition(clause = \"Fine, thanks a bunch for asking!\")"
   ]
  },
  {
   "cell_type": "markdown",
   "metadata": {},
   "source": [
    "### Build a rank-frequency distribution for a text and determine its Zipf/Simon (bag-of-phrase) $R^2$."
   ]
  },
  {
   "cell_type": "code",
   "execution_count": 18,
   "metadata": {
    "collapsed": false
   },
   "outputs": [],
   "source": [
    "## Vignette 6: Use the default partitioning method to partition the main partitioner.py file and compute rsq\n",
    "def testPartitionTextAndFit():\n",
    "    pa = oneoff()\n",
    "    pa.partitionText(textfile = pa.home+\"/../README.md\")\n",
    "    pa.testFit()\n",
    "    print \"R-squared: \",round(pa.rsq,2)\n",
    "    print\n",
    "    phrases = sorted(pa.counts, key = lambda x: pa.counts[x], reverse = True)\n",
    "    for j in range(25):\n",
    "        phrase = phrases[j]\n",
    "        print phrase, pa.counts[phrase]"
   ]
  },
  {
   "cell_type": "code",
   "execution_count": 19,
   "metadata": {
    "collapsed": false
   },
   "outputs": [
    {
     "name": "stdout",
     "output_type": "stream",
     "text": [
      "R-squared:  0.11\n",
      "\n",
      "project 7.0\n",
      " 5.0\n",
      "the 5.0\n",
      "code 4.0\n",
      "to 4.0\n",
      "and 4.0\n",
      "of the 3.0\n",
      "API 3.0\n",
      "should 2.0\n",
      "docs 2.0\n",
      "A short 2.0\n",
      "This 2.0\n",
      "etc 2.0\n",
      "your 2.0\n",
      "size 2.0\n",
      "reference 2.0\n",
      "can 2.0\n",
      "examples 2.0\n",
      "is 2.0\n",
      "how 2.0\n",
      "added 2.0\n",
      "description 2.0\n",
      "important 2.0\n",
      "Make sure 1.0\n",
      "show 1.0\n"
     ]
    }
   ],
   "source": [
    "testPartitionTextAndFit()"
   ]
  },
  {
   "cell_type": "code",
   "execution_count": null,
   "metadata": {
    "collapsed": true
   },
   "outputs": [],
   "source": []
  }
 ],
 "metadata": {
  "kernelspec": {
   "display_name": "Python 2",
   "language": "python",
   "name": "python2"
  },
  "language_info": {
   "codemirror_mode": {
    "name": "ipython",
    "version": 2
   },
   "file_extension": ".py",
   "mimetype": "text/x-python",
   "name": "python",
   "nbconvert_exporter": "python",
   "pygments_lexer": "ipython2",
   "version": "2.7.11"
  }
 },
 "nbformat": 4,
 "nbformat_minor": 0
}
